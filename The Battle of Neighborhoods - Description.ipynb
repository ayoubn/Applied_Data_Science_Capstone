{
    "cells": [
        {
            "metadata": {
                "collapsed": true
            },
            "cell_type": "markdown",
            "source": "## Capstone Project - The Battle of Neighborhoods\n\n### Cologne City Vegetarian Food Choice\n\n##### Introduction/Business problem\n\nCologne, the city the author lives in, attracts a large number of tourists, not least due to its famous cathedral and its vibrant party scene. Germany, where the city is situated, is not well known for vegetarian food. In the contrary, typical German dishes include a lot of meat. So, for tourists who prefer to eat vegetarian for reasons such as religion, health and others, finding the right spot to eat in Cologne can be difficult and frustrating.\n\nThus, the problem I want to solve is to give a simple recommendation to tourists in Cologne: in which district of the city will you find the highest number of vegetarian restaurants? The target audience are foreign tourists looking for an area in which to eat vegetarian food.\n\n##### Description of the data\n\nI will, as requested by the assignment task, use foursquare data about restaurants in Cologne. Here is an example of a vegetarian restaurant in Cologne on foursquare: https://de.foursquare.com/v/sattgr%C3%BCn/5c33306cc824ae002c2b414c I will use data such as the restaurant name, ID, location, category of food (vegetarian etc.?).\n\nAlso, I will use the overview of districts/city parts of Cologne from Wikipedia: https://en.wikipedia.org/wiki/Districts_of_Cologne. Here, you will find a table \"Districts\" which shows the nine city districts and its neighborhoods/city parts. I will use these districts and the data about restaurants in these districts from foursquare to show the density of vegetarian restaurants in them."
        }
    ],
    "metadata": {
        "kernelspec": {
            "name": "python3",
            "display_name": "Python 3.7",
            "language": "python"
        },
        "language_info": {
            "name": "python",
            "version": "3.7.10",
            "mimetype": "text/x-python",
            "codemirror_mode": {
                "name": "ipython",
                "version": 3
            },
            "pygments_lexer": "ipython3",
            "nbconvert_exporter": "python",
            "file_extension": ".py"
        }
    },
    "nbformat": 4,
    "nbformat_minor": 1
}